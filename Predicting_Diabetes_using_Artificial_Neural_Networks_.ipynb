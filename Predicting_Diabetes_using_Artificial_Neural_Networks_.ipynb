{
  "nbformat": 4,
  "nbformat_minor": 0,
  "metadata": {
    "colab": {
      "provenance": [],
      "authorship_tag": "ABX9TyMHnBe5zbUwk18HZ138XOPS",
      "include_colab_link": true
    },
    "kernelspec": {
      "name": "python3",
      "display_name": "Python 3"
    },
    "language_info": {
      "name": "python"
    }
  },
  "cells": [
    {
      "cell_type": "markdown",
      "metadata": {
        "id": "view-in-github",
        "colab_type": "text"
      },
      "source": [
        "<a href=\"https://colab.research.google.com/github/PSivaMallikarjun/Predicting-Diabetes-using-Artificial-Neural-Networks/blob/main/Predicting_Diabetes_using_Artificial_Neural_Networks_.ipynb\" target=\"_parent\"><img src=\"https://colab.research.google.com/assets/colab-badge.svg\" alt=\"Open In Colab\"/></a>"
      ]
    },
    {
      "cell_type": "markdown",
      "source": [
        "Predicting Diabetes using Artificial Neural Networks\n",
        "1. Dataset:\n",
        "Source: Pima Indians Diabetes Database (Kaggle)\n",
        "Size: 768 patient records\n",
        "Features: Medical test results (e.g., glucose level, blood pressure) and patient statistics (e.g., age, BMI)\n",
        "Target: 0 (No Diabetes) / 1 (Diabetes)\n",
        "\n"
      ],
      "metadata": {
        "id": "w9qOEpsgkgKm"
      }
    },
    {
      "cell_type": "markdown",
      "source": [
        "2. Model 1: Simple ANN with 1 Neuron\n",
        "Architecture:\n",
        "Input layer: 8 features\n",
        "Single Neuron Output Layer with Sigmoid activation\n",
        "Loss Function: Binary Cross-Entropy\n",
        "Optimizer: Adam or SGD\n",
        "Performance Metric: Accuracy, Precision, Recall, F1-score"
      ],
      "metadata": {
        "id": "DW2WiBV8kvW-"
      }
    },
    {
      "cell_type": "markdown",
      "source": [
        "3. Model 2: ANN with 2 Hidden Layers and 25 Neurons\n",
        "Architecture:\n",
        "Input layer: 8 features\n",
        "Hidden Layer 1: 12 neurons, ReLU activation\n",
        "Hidden Layer 2: 13 neurons, ReLU activation\n",
        "Output Layer: 1 neuron, Sigmoid activation\n",
        "Loss Function: Binary Cross-Entropy\n",
        "Optimizer: Adam\n",
        "Performance Metric: Accuracy, Precision, Recall, F1-score"
      ],
      "metadata": {
        "id": "yNoW6xYckwWt"
      }
    },
    {
      "cell_type": "markdown",
      "source": [
        "4. Implementation Steps\n",
        "Data Preprocessing\n",
        "\n",
        "Handle missing values (if any)\n",
        "Normalize input features (MinMaxScaler or StandardScaler)\n",
        "Split dataset into training and test sets (80-20 or 70-30)Model Training\n",
        "\n",
        "Train both ANN models separately\n",
        "Compare performance on the test set\n",
        "Evaluation & Comparison\n",
        "\n",
        "Evaluate accuracy, precision, recall, and F1-score for both models\n",
        "Compare model efficiency and complexity"
      ],
      "metadata": {
        "id": "iDUk5818k0U1"
      }
    },
    {
      "cell_type": "markdown",
      "source": [
        "5. Tools & Libraries\n",
        "Python\n",
        "TensorFlow/Keras\n",
        "NumPy, Pandas, Matplotlib, Seaborn (for data visualization & preprocessing)\n",
        "Scikit-learn (for splitting dataset & evaluation metrics)"
      ],
      "metadata": {
        "id": "HQlq3PAWlyjL"
      }
    },
    {
      "cell_type": "markdown",
      "source": [
        "Here's the full Python implementation for predicting diabetes using Artificial Neural Networks (ANNs) with TensorFlow/Keras. The script includes data preprocessing, model training, evaluation, and comparison of the two ANN architectures."
      ],
      "metadata": {
        "id": "_LoIAx3Sl9Jx"
      }
    },
    {
      "cell_type": "markdown",
      "source": [
        "This script loads the dataset, preprocesses it, builds two ANN models, trains them, and evaluates their performance."
      ],
      "metadata": {
        "id": "PjMVlk1xmEow"
      }
    },
    {
      "cell_type": "code",
      "execution_count": 3,
      "metadata": {
        "colab": {
          "base_uri": "https://localhost:8080/"
        },
        "id": "qU_4jUjNkcn9",
        "outputId": "50fcbb7d-de6b-42b2-9335-04cf31c5dcd1"
      },
      "outputs": [
        {
          "output_type": "stream",
          "name": "stdout",
          "text": [
            "\u001b[1m5/5\u001b[0m \u001b[32m━━━━━━━━━━━━━━━━━━━━\u001b[0m\u001b[37m\u001b[0m \u001b[1m0s\u001b[0m 10ms/step\n",
            "\u001b[1m5/5\u001b[0m \u001b[32m━━━━━━━━━━━━━━━━━━━━\u001b[0m\u001b[37m\u001b[0m \u001b[1m0s\u001b[0m 14ms/step\n",
            "Model 1 - Simple ANN with 1 Neuron:\n",
            "Accuracy: 0.7597, Precision: 0.6607, Recall: 0.6727, F1 Score: 0.6667\n",
            "\n",
            "Model 2 - ANN with 2 Hidden Layers (25 Neurons Total):\n",
            "Accuracy: 0.7532, Precision: 0.6545, Recall: 0.6545, F1 Score: 0.6545\n"
          ]
        }
      ],
      "source": [
        "import numpy as np\n",
        "import pandas as pd\n",
        "import tensorflow as tf\n",
        "from tensorflow import keras\n",
        "from tensorflow.keras.models import Sequential\n",
        "from tensorflow.keras.layers import Dense\n",
        "from sklearn.model_selection import train_test_split\n",
        "from sklearn.preprocessing import StandardScaler\n",
        "from sklearn.metrics import accuracy_score, precision_score, recall_score, f1_score\n",
        "\n",
        "# Load the dataset\n",
        "data = pd.read_csv(\"https://raw.githubusercontent.com/jbrownlee/Datasets/master/pima-indians-diabetes.data.csv\",\n",
        "                   names=[\"Pregnancies\", \"Glucose\", \"BloodPressure\", \"SkinThickness\", \"Insulin\", \"BMI\", \"DiabetesPedigreeFunction\", \"Age\", \"Outcome\"])\n",
        "\n",
        "# Splitting features and target variable\n",
        "X = data.drop(columns=[\"Outcome\"])\n",
        "y = data[\"Outcome\"]\n",
        "\n",
        "# Split into train and test sets\n",
        "X_train, X_test, y_train, y_test = train_test_split(X, y, test_size=0.2, random_state=42)\n",
        "\n",
        "# Standardize the features\n",
        "scaler = StandardScaler()\n",
        "X_train = scaler.fit_transform(X_train)\n",
        "X_test = scaler.transform(X_test)\n",
        "\n",
        "# Model 1: Simple ANN with 1 Neuron\n",
        "model1 = Sequential([\n",
        "    keras.layers.Input(shape=(X_train.shape[1],)),\n",
        "    Dense(1, activation='sigmoid')\n",
        "])\n",
        "model1.compile(optimizer='adam', loss='binary_crossentropy', metrics=['accuracy'])\n",
        "model1.fit(X_train, y_train, epochs=100, verbose=0, batch_size=16)\n",
        "\n",
        "# Model 2: ANN with 2 Hidden Layers & 25 Neurons\n",
        "def build_complex_model():\n",
        "    model = Sequential([\n",
        "        keras.layers.Input(shape=(X_train.shape[1],)),\n",
        "        Dense(12, activation='relu'),\n",
        "        Dense(13, activation='relu'),\n",
        "        Dense(1, activation='sigmoid')\n",
        "    ])\n",
        "    model.compile(optimizer='adam', loss='binary_crossentropy', metrics=['accuracy'])\n",
        "    return model\n",
        "\n",
        "model2 = build_complex_model()\n",
        "model2.fit(X_train, y_train, epochs=100, verbose=0, batch_size=16)\n",
        "\n",
        "# Evaluate both models\n",
        "def evaluate_model(model, X_test, y_test):\n",
        "    y_pred = (model.predict(X_test) > 0.5).astype(int)\n",
        "    accuracy = accuracy_score(y_test, y_pred)\n",
        "    precision = precision_score(y_test, y_pred)\n",
        "    recall = recall_score(y_test, y_pred)\n",
        "    f1 = f1_score(y_test, y_pred)\n",
        "    return accuracy, precision, recall, f1\n",
        "\n",
        "accuracy1, precision1, recall1, f1_1 = evaluate_model(model1, X_test, y_test)\n",
        "accuracy2, precision2, recall2, f1_2 = evaluate_model(model2, X_test, y_test)\n",
        "\n",
        "# Print results\n",
        "print(\"Model 1 - Simple ANN with 1 Neuron:\")\n",
        "print(f\"Accuracy: {accuracy1:.4f}, Precision: {precision1:.4f}, Recall: {recall1:.4f}, F1 Score: {f1_1:.4f}\\n\")\n",
        "\n",
        "print(\"Model 2 - ANN with 2 Hidden Layers (25 Neurons Total):\")\n",
        "print(f\"Accuracy: {accuracy2:.4f}, Precision: {precision2:.4f}, Recall: {recall2:.4f}, F1 Score: {f1_2:.4f}\")"
      ]
    },
    {
      "cell_type": "markdown",
      "source": [],
      "metadata": {
        "id": "pnfAz3rHm803"
      }
    }
  ]
}